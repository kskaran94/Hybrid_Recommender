{
 "cells": [
  {
   "cell_type": "code",
   "execution_count": 15,
   "metadata": {
    "collapsed": true
   },
   "outputs": [],
   "source": [
    "%matplotlib inline\n",
    "from datetime import datetime\n",
    "from IPython.display import Markdown\n",
    "from os.path import join\n",
    "from os.path import exists\n",
    "import matplotlib.pyplot as plt\n",
    "import numpy as np\n",
    "import pandas as pd\n",
    "import seaborn as sns"
   ]
  },
  {
   "cell_type": "code",
   "execution_count": 17,
   "metadata": {
    "collapsed": true
   },
   "outputs": [],
   "source": [
    "ratings_df = pd.read_csv('ml-100k/u.data', sep='\\t', header=None, \n",
    "                         names=['userId', 'movieId', 'rating', 'timestamp'])\n",
    "ratings_df['timestamp'] = ratings_df['timestamp'].apply(datetime.fromtimestamp)\n",
    "ratings_df['year'] = ratings_df['timestamp'].dt.year\n",
    "ratings_df['month'] = ratings_df['timestamp'].dt.month\n",
    "ratings_df = ratings_df.sort_values('timestamp')"
   ]
  },
  {
   "cell_type": "code",
   "execution_count": 18,
   "metadata": {},
   "outputs": [
    {
     "data": {
      "image/png": "[encoded data removed]",
      "text/plain": [
       "<matplotlib.figure.Figure at 0x1a1b9ddf28>"
      ]
     },
     "metadata": {},
     "output_type": "display_data"
    }
   ],
   "source": [
    "norm_counts = (\n",
    "    ratings_df['rating']\n",
    "    .value_counts(normalize=True, sort=False)\n",
    "    .multiply(100)\n",
    "    .reset_index()\n",
    "    .rename(columns={'rating': 'percent', 'index': 'rating'})\n",
    ")\n",
    "ax = sns.barplot(x='rating', y='percent', data=norm_counts)\n",
    "ax.set_title('Rating Frequencies')\n",
    "plt.show()"
   ]
  },
  {
   "cell_type": "code",
   "execution_count": 19,
   "metadata": {},
   "outputs": [
    {
     "data": {
      "text/html": [
       "<div>\n",
       "<style>\n",
       "    .dataframe thead tr:only-child th {\n",
       "        text-align: right;\n",
       "    }\n",
       "\n",
       "    .dataframe thead th {\n",
       "        text-align: left;\n",
       "    }\n",
       "\n",
       "    .dataframe tbody tr th {\n",
       "        vertical-align: top;\n",
       "    }\n",
       "</style>\n",
       "<table border=\"1\" class=\"dataframe\">\n",
       "  <thead>\n",
       "    <tr style=\"text-align: right;\">\n",
       "      <th></th>\n",
       "      <th>year</th>\n",
       "      <th>month</th>\n",
       "      <th># of Ratings</th>\n",
       "    </tr>\n",
       "    <tr>\n",
       "      <th>Date</th>\n",
       "      <th></th>\n",
       "      <th></th>\n",
       "      <th></th>\n",
       "    </tr>\n",
       "  </thead>\n",
       "  <tbody>\n",
       "    <tr>\n",
       "      <th>1997-09-01</th>\n",
       "      <td>1997</td>\n",
       "      <td>9</td>\n",
       "      <td>6808</td>\n",
       "    </tr>\n",
       "    <tr>\n",
       "      <th>1997-10-01</th>\n",
       "      <td>1997</td>\n",
       "      <td>10</td>\n",
       "      <td>10368</td>\n",
       "    </tr>\n",
       "    <tr>\n",
       "      <th>1997-11-01</th>\n",
       "      <td>1997</td>\n",
       "      <td>11</td>\n",
       "      <td>24073</td>\n",
       "    </tr>\n",
       "    <tr>\n",
       "      <th>1997-12-01</th>\n",
       "      <td>1997</td>\n",
       "      <td>12</td>\n",
       "      <td>11695</td>\n",
       "    </tr>\n",
       "    <tr>\n",
       "      <th>1998-01-01</th>\n",
       "      <td>1998</td>\n",
       "      <td>1</td>\n",
       "      <td>14100</td>\n",
       "    </tr>\n",
       "    <tr>\n",
       "      <th>1998-02-01</th>\n",
       "      <td>1998</td>\n",
       "      <td>2</td>\n",
       "      <td>10961</td>\n",
       "    </tr>\n",
       "    <tr>\n",
       "      <th>1998-03-01</th>\n",
       "      <td>1998</td>\n",
       "      <td>3</td>\n",
       "      <td>12987</td>\n",
       "    </tr>\n",
       "    <tr>\n",
       "      <th>1998-04-01</th>\n",
       "      <td>1998</td>\n",
       "      <td>4</td>\n",
       "      <td>9008</td>\n",
       "    </tr>\n",
       "  </tbody>\n",
       "</table>\n",
       "</div>"
      ],
      "text/plain": [
       "            year month  # of Ratings\n",
       "Date                                \n",
       "1997-09-01  1997     9          6808\n",
       "1997-10-01  1997    10         10368\n",
       "1997-11-01  1997    11         24073\n",
       "1997-12-01  1997    12         11695\n",
       "1998-01-01  1998     1         14100\n",
       "1998-02-01  1998     2         10961\n",
       "1998-03-01  1998     3         12987\n",
       "1998-04-01  1998     4          9008"
      ]
     },
     "metadata": {},
     "output_type": "display_data"
    },
    {
     "data": {
      "image/png": "[encoded data removed]",
      "text/plain": [
       "<matplotlib.figure.Figure at 0x1a1b9d9be0>"
      ]
     },
     "metadata": {},
     "output_type": "display_data"
    }
   ],
   "source": [
    "month_counts = ratings_df[['year', 'month', 'rating']].groupby(['year', 'month']).count()\n",
    "month_counts = month_counts.rename(index=str, columns={'rating': '# of Ratings'})\n",
    "month_counts = month_counts.reset_index()\n",
    "month_counts['Date'] = month_counts[['year', 'month']].apply(\n",
    "    lambda x: datetime(year=int(x[0]), month=int(x[1]), day=1), axis=1\n",
    ")\n",
    "month_counts = month_counts.set_index('Date', drop=True)\n",
    "display(month_counts)\n",
    "month_counts['# of Ratings'].plot(style='o-')\n",
    "plt.ylabel('# of Ratings')\n",
    "plt.title('# of Ratings per Month')\n",
    "plt.ylim([0, 25000])\n",
    "plt.gca().grid(which='minor')\n",
    "plt.show()"
   ]
  },
  {
   "cell_type": "code",
   "execution_count": 21,
   "metadata": {},
   "outputs": [
    {
     "data": {
      "text/html": [
       "<div>\n",
       "<style>\n",
       "    .dataframe thead tr:only-child th {\n",
       "        text-align: right;\n",
       "    }\n",
       "\n",
       "    .dataframe thead th {\n",
       "        text-align: left;\n",
       "    }\n",
       "\n",
       "    .dataframe tbody tr th {\n",
       "        vertical-align: top;\n",
       "    }\n",
       "</style>\n",
       "<table border=\"1\" class=\"dataframe\">\n",
       "  <thead>\n",
       "    <tr style=\"text-align: right;\">\n",
       "      <th></th>\n",
       "      <th>year</th>\n",
       "      <th>month</th>\n",
       "      <th>Rating</th>\n",
       "      <th>std</th>\n",
       "    </tr>\n",
       "    <tr>\n",
       "      <th>Date</th>\n",
       "      <th></th>\n",
       "      <th></th>\n",
       "      <th></th>\n",
       "      <th></th>\n",
       "    </tr>\n",
       "  </thead>\n",
       "  <tbody>\n",
       "    <tr>\n",
       "      <th>1997-09-01</th>\n",
       "      <td>1997</td>\n",
       "      <td>9</td>\n",
       "      <td>3.541569</td>\n",
       "      <td>1.091807</td>\n",
       "    </tr>\n",
       "    <tr>\n",
       "      <th>1997-10-01</th>\n",
       "      <td>1997</td>\n",
       "      <td>10</td>\n",
       "      <td>3.594425</td>\n",
       "      <td>1.097959</td>\n",
       "    </tr>\n",
       "    <tr>\n",
       "      <th>1997-11-01</th>\n",
       "      <td>1997</td>\n",
       "      <td>11</td>\n",
       "      <td>3.558759</td>\n",
       "      <td>1.110674</td>\n",
       "    </tr>\n",
       "    <tr>\n",
       "      <th>1997-12-01</th>\n",
       "      <td>1997</td>\n",
       "      <td>12</td>\n",
       "      <td>3.578367</td>\n",
       "      <td>1.110067</td>\n",
       "    </tr>\n",
       "    <tr>\n",
       "      <th>1998-01-01</th>\n",
       "      <td>1998</td>\n",
       "      <td>1</td>\n",
       "      <td>3.397092</td>\n",
       "      <td>1.187497</td>\n",
       "    </tr>\n",
       "    <tr>\n",
       "      <th>1998-02-01</th>\n",
       "      <td>1998</td>\n",
       "      <td>2</td>\n",
       "      <td>3.456619</td>\n",
       "      <td>1.128093</td>\n",
       "    </tr>\n",
       "    <tr>\n",
       "      <th>1998-03-01</th>\n",
       "      <td>1998</td>\n",
       "      <td>3</td>\n",
       "      <td>3.548395</td>\n",
       "      <td>1.109802</td>\n",
       "    </tr>\n",
       "    <tr>\n",
       "      <th>1998-04-01</th>\n",
       "      <td>1998</td>\n",
       "      <td>4</td>\n",
       "      <td>3.576710</td>\n",
       "      <td>1.142116</td>\n",
       "    </tr>\n",
       "  </tbody>\n",
       "</table>\n",
       "</div>"
      ],
      "text/plain": [
       "            year month    Rating       std\n",
       "Date                                      \n",
       "1997-09-01  1997     9  3.541569  1.091807\n",
       "1997-10-01  1997    10  3.594425  1.097959\n",
       "1997-11-01  1997    11  3.558759  1.110674\n",
       "1997-12-01  1997    12  3.578367  1.110067\n",
       "1998-01-01  1998     1  3.397092  1.187497\n",
       "1998-02-01  1998     2  3.456619  1.128093\n",
       "1998-03-01  1998     3  3.548395  1.109802\n",
       "1998-04-01  1998     4  3.576710  1.142116"
      ]
     },
     "metadata": {},
     "output_type": "display_data"
    },
    {
     "data": {
      "image/png": "[encoded data removed]",
      "text/plain": [
       "<matplotlib.figure.Figure at 0x1a1be81a90>"
      ]
     },
     "metadata": {},
     "output_type": "display_data"
    }
   ],
   "source": [
    "month_counts = ratings_df.groupby(['year', 'month'])['rating'].agg([np.mean, np.std])\n",
    "month_counts = month_counts.rename(index=str, columns={'mean': 'Rating'})\n",
    "month_counts = month_counts.reset_index()\n",
    "month_counts['Date'] = month_counts[['year', 'month']].apply(\n",
    "    lambda x: datetime(year=int(x[0]), month=int(x[1]), day=1), axis=1\n",
    ")\n",
    "month_counts = month_counts.set_index('Date', drop=True)\n",
    "display(month_counts)\n",
    "month_counts['Rating'].plot(style='o-')\n",
    "plt.fill_between(month_counts.index,\n",
    "                 month_counts['Rating'] - month_counts['std'],\n",
    "                 month_counts['Rating'] + month_counts['std'],\n",
    "                 alpha=0.3,\n",
    "                )\n",
    "plt.ylim([0, 5])\n",
    "plt.ylabel('Rating')\n",
    "plt.gca().grid(which='minor')\n",
    "plt.title('Rating Consistency over Time')\n",
    "plt.show()"
   ]
  }
 ],
 "metadata": {
  "kernelspec": {
   "display_name": "Python [conda env:anaconda3]",
   "language": "python",
   "name": "conda-env-anaconda3-py"
  },
  "language_info": {
   "codemirror_mode": {
    "name": "ipython",
    "version": 3
   },
   "file_extension": ".py",
   "mimetype": "text/x-python",
   "name": "python",
   "nbconvert_exporter": "python",
   "pygments_lexer": "ipython3",
   "version": "3.6.3"
  }
 },
 "nbformat": 4,
 "nbformat_minor": 2
}
