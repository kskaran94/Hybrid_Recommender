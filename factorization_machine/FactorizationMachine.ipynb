{
 "cells": [
  {
   "cell_type": "markdown",
   "metadata": {},
   "source": [
    "Importing all necessary libraries -"
   ]
  },
  {
   "cell_type": "code",
   "execution_count": 5,
   "metadata": {},
   "outputs": [],
   "source": [
    "import pandas as pd\n",
    "import numpy as np\n",
    "from scipy.stats import pearsonr\n",
    "import implicit\n",
    "import time\n",
    "from scipy import sparse\n",
    "import scipy.sparse as sp\n",
    "import matplotlib.pyplot as plt\n",
    "%matplotlib inline\n",
    "from lightfm import LightFM\n",
    "from lightfm.evaluation import precision_at_k\n",
    "from lightfm.evaluation import recall_at_k\n",
    "from lightfm.evaluation import auc_score"
   ]
  },
  {
   "cell_type": "markdown",
   "metadata": {},
   "source": [
    "Reading the entire data -"
   ]
  },
  {
   "cell_type": "code",
   "execution_count": 6,
   "metadata": {},
   "outputs": [
    {
     "ename": "FileNotFoundError",
     "evalue": "File b'ml-100k/u.data' does not exist",
     "output_type": "error",
     "traceback": [
      "\u001b[0;31m---------------------------------------------------------------------------\u001b[0m",
      "\u001b[0;31mFileNotFoundError\u001b[0m                         Traceback (most recent call last)",
      "\u001b[0;32m<ipython-input-6-51ff861d0eca>\u001b[0m in \u001b[0;36m<module>\u001b[0;34m()\u001b[0m\n\u001b[0;32m----> 1\u001b[0;31m \u001b[0mRatings_base\u001b[0m \u001b[0;34m=\u001b[0m \u001b[0mpd\u001b[0m\u001b[0;34m.\u001b[0m\u001b[0mread_table\u001b[0m\u001b[0;34m(\u001b[0m\u001b[0;34m\"ml-100k/u.data\"\u001b[0m\u001b[0;34m,\u001b[0m \u001b[0mheader\u001b[0m\u001b[0;34m=\u001b[0m\u001b[0;32mNone\u001b[0m\u001b[0;34m)\u001b[0m\u001b[0;34m\u001b[0m\u001b[0;34m\u001b[0m\u001b[0m\n\u001b[0m\u001b[1;32m      2\u001b[0m \u001b[0mRatings_base\u001b[0m\u001b[0;34m.\u001b[0m\u001b[0mcolumns\u001b[0m \u001b[0;34m=\u001b[0m \u001b[0;34m[\u001b[0m\u001b[0;34m\"userId\"\u001b[0m\u001b[0;34m,\u001b[0m \u001b[0;34m\"movieId\"\u001b[0m\u001b[0;34m,\u001b[0m \u001b[0;34m\"rating\"\u001b[0m\u001b[0;34m,\u001b[0m \u001b[0;34m\"timestamp\"\u001b[0m\u001b[0;34m]\u001b[0m\u001b[0;34m\u001b[0m\u001b[0;34m\u001b[0m\u001b[0m\n",
      "\u001b[0;32m~/anaconda3/lib/python3.6/site-packages/pandas/io/parsers.py\u001b[0m in \u001b[0;36mparser_f\u001b[0;34m(filepath_or_buffer, sep, delimiter, header, names, index_col, usecols, squeeze, prefix, mangle_dupe_cols, dtype, engine, converters, true_values, false_values, skipinitialspace, skiprows, nrows, na_values, keep_default_na, na_filter, verbose, skip_blank_lines, parse_dates, infer_datetime_format, keep_date_col, date_parser, dayfirst, iterator, chunksize, compression, thousands, decimal, lineterminator, quotechar, quoting, escapechar, comment, encoding, dialect, tupleize_cols, error_bad_lines, warn_bad_lines, skipfooter, doublequote, delim_whitespace, low_memory, memory_map, float_precision)\u001b[0m\n\u001b[1;32m    676\u001b[0m                     skip_blank_lines=skip_blank_lines)\n\u001b[1;32m    677\u001b[0m \u001b[0;34m\u001b[0m\u001b[0m\n\u001b[0;32m--> 678\u001b[0;31m         \u001b[0;32mreturn\u001b[0m \u001b[0m_read\u001b[0m\u001b[0;34m(\u001b[0m\u001b[0mfilepath_or_buffer\u001b[0m\u001b[0;34m,\u001b[0m \u001b[0mkwds\u001b[0m\u001b[0;34m)\u001b[0m\u001b[0;34m\u001b[0m\u001b[0;34m\u001b[0m\u001b[0m\n\u001b[0m\u001b[1;32m    679\u001b[0m \u001b[0;34m\u001b[0m\u001b[0m\n\u001b[1;32m    680\u001b[0m     \u001b[0mparser_f\u001b[0m\u001b[0;34m.\u001b[0m\u001b[0m__name__\u001b[0m \u001b[0;34m=\u001b[0m \u001b[0mname\u001b[0m\u001b[0;34m\u001b[0m\u001b[0;34m\u001b[0m\u001b[0m\n",
      "\u001b[0;32m~/anaconda3/lib/python3.6/site-packages/pandas/io/parsers.py\u001b[0m in \u001b[0;36m_read\u001b[0;34m(filepath_or_buffer, kwds)\u001b[0m\n\u001b[1;32m    438\u001b[0m \u001b[0;34m\u001b[0m\u001b[0m\n\u001b[1;32m    439\u001b[0m     \u001b[0;31m# Create the parser.\u001b[0m\u001b[0;34m\u001b[0m\u001b[0;34m\u001b[0m\u001b[0;34m\u001b[0m\u001b[0m\n\u001b[0;32m--> 440\u001b[0;31m     \u001b[0mparser\u001b[0m \u001b[0;34m=\u001b[0m \u001b[0mTextFileReader\u001b[0m\u001b[0;34m(\u001b[0m\u001b[0mfilepath_or_buffer\u001b[0m\u001b[0;34m,\u001b[0m \u001b[0;34m**\u001b[0m\u001b[0mkwds\u001b[0m\u001b[0;34m)\u001b[0m\u001b[0;34m\u001b[0m\u001b[0;34m\u001b[0m\u001b[0m\n\u001b[0m\u001b[1;32m    441\u001b[0m \u001b[0;34m\u001b[0m\u001b[0m\n\u001b[1;32m    442\u001b[0m     \u001b[0;32mif\u001b[0m \u001b[0mchunksize\u001b[0m \u001b[0;32mor\u001b[0m \u001b[0miterator\u001b[0m\u001b[0;34m:\u001b[0m\u001b[0;34m\u001b[0m\u001b[0;34m\u001b[0m\u001b[0m\n",
      "\u001b[0;32m~/anaconda3/lib/python3.6/site-packages/pandas/io/parsers.py\u001b[0m in \u001b[0;36m__init__\u001b[0;34m(self, f, engine, **kwds)\u001b[0m\n\u001b[1;32m    785\u001b[0m             \u001b[0mself\u001b[0m\u001b[0;34m.\u001b[0m\u001b[0moptions\u001b[0m\u001b[0;34m[\u001b[0m\u001b[0;34m'has_index_names'\u001b[0m\u001b[0;34m]\u001b[0m \u001b[0;34m=\u001b[0m \u001b[0mkwds\u001b[0m\u001b[0;34m[\u001b[0m\u001b[0;34m'has_index_names'\u001b[0m\u001b[0;34m]\u001b[0m\u001b[0;34m\u001b[0m\u001b[0;34m\u001b[0m\u001b[0m\n\u001b[1;32m    786\u001b[0m \u001b[0;34m\u001b[0m\u001b[0m\n\u001b[0;32m--> 787\u001b[0;31m         \u001b[0mself\u001b[0m\u001b[0;34m.\u001b[0m\u001b[0m_make_engine\u001b[0m\u001b[0;34m(\u001b[0m\u001b[0mself\u001b[0m\u001b[0;34m.\u001b[0m\u001b[0mengine\u001b[0m\u001b[0;34m)\u001b[0m\u001b[0;34m\u001b[0m\u001b[0;34m\u001b[0m\u001b[0m\n\u001b[0m\u001b[1;32m    788\u001b[0m \u001b[0;34m\u001b[0m\u001b[0m\n\u001b[1;32m    789\u001b[0m     \u001b[0;32mdef\u001b[0m \u001b[0mclose\u001b[0m\u001b[0;34m(\u001b[0m\u001b[0mself\u001b[0m\u001b[0;34m)\u001b[0m\u001b[0;34m:\u001b[0m\u001b[0;34m\u001b[0m\u001b[0;34m\u001b[0m\u001b[0m\n",
      "\u001b[0;32m~/anaconda3/lib/python3.6/site-packages/pandas/io/parsers.py\u001b[0m in \u001b[0;36m_make_engine\u001b[0;34m(self, engine)\u001b[0m\n\u001b[1;32m   1012\u001b[0m     \u001b[0;32mdef\u001b[0m \u001b[0m_make_engine\u001b[0m\u001b[0;34m(\u001b[0m\u001b[0mself\u001b[0m\u001b[0;34m,\u001b[0m \u001b[0mengine\u001b[0m\u001b[0;34m=\u001b[0m\u001b[0;34m'c'\u001b[0m\u001b[0;34m)\u001b[0m\u001b[0;34m:\u001b[0m\u001b[0;34m\u001b[0m\u001b[0;34m\u001b[0m\u001b[0m\n\u001b[1;32m   1013\u001b[0m         \u001b[0;32mif\u001b[0m \u001b[0mengine\u001b[0m \u001b[0;34m==\u001b[0m \u001b[0;34m'c'\u001b[0m\u001b[0;34m:\u001b[0m\u001b[0;34m\u001b[0m\u001b[0;34m\u001b[0m\u001b[0m\n\u001b[0;32m-> 1014\u001b[0;31m             \u001b[0mself\u001b[0m\u001b[0;34m.\u001b[0m\u001b[0m_engine\u001b[0m \u001b[0;34m=\u001b[0m \u001b[0mCParserWrapper\u001b[0m\u001b[0;34m(\u001b[0m\u001b[0mself\u001b[0m\u001b[0;34m.\u001b[0m\u001b[0mf\u001b[0m\u001b[0;34m,\u001b[0m \u001b[0;34m**\u001b[0m\u001b[0mself\u001b[0m\u001b[0;34m.\u001b[0m\u001b[0moptions\u001b[0m\u001b[0;34m)\u001b[0m\u001b[0;34m\u001b[0m\u001b[0;34m\u001b[0m\u001b[0m\n\u001b[0m\u001b[1;32m   1015\u001b[0m         \u001b[0;32melse\u001b[0m\u001b[0;34m:\u001b[0m\u001b[0;34m\u001b[0m\u001b[0;34m\u001b[0m\u001b[0m\n\u001b[1;32m   1016\u001b[0m             \u001b[0;32mif\u001b[0m \u001b[0mengine\u001b[0m \u001b[0;34m==\u001b[0m \u001b[0;34m'python'\u001b[0m\u001b[0;34m:\u001b[0m\u001b[0;34m\u001b[0m\u001b[0;34m\u001b[0m\u001b[0m\n",
      "\u001b[0;32m~/anaconda3/lib/python3.6/site-packages/pandas/io/parsers.py\u001b[0m in \u001b[0;36m__init__\u001b[0;34m(self, src, **kwds)\u001b[0m\n\u001b[1;32m   1706\u001b[0m         \u001b[0mkwds\u001b[0m\u001b[0;34m[\u001b[0m\u001b[0;34m'usecols'\u001b[0m\u001b[0;34m]\u001b[0m \u001b[0;34m=\u001b[0m \u001b[0mself\u001b[0m\u001b[0;34m.\u001b[0m\u001b[0musecols\u001b[0m\u001b[0;34m\u001b[0m\u001b[0;34m\u001b[0m\u001b[0m\n\u001b[1;32m   1707\u001b[0m \u001b[0;34m\u001b[0m\u001b[0m\n\u001b[0;32m-> 1708\u001b[0;31m         \u001b[0mself\u001b[0m\u001b[0;34m.\u001b[0m\u001b[0m_reader\u001b[0m \u001b[0;34m=\u001b[0m \u001b[0mparsers\u001b[0m\u001b[0;34m.\u001b[0m\u001b[0mTextReader\u001b[0m\u001b[0;34m(\u001b[0m\u001b[0msrc\u001b[0m\u001b[0;34m,\u001b[0m \u001b[0;34m**\u001b[0m\u001b[0mkwds\u001b[0m\u001b[0;34m)\u001b[0m\u001b[0;34m\u001b[0m\u001b[0;34m\u001b[0m\u001b[0m\n\u001b[0m\u001b[1;32m   1709\u001b[0m \u001b[0;34m\u001b[0m\u001b[0m\n\u001b[1;32m   1710\u001b[0m         \u001b[0mpassed_names\u001b[0m \u001b[0;34m=\u001b[0m \u001b[0mself\u001b[0m\u001b[0;34m.\u001b[0m\u001b[0mnames\u001b[0m \u001b[0;32mis\u001b[0m \u001b[0;32mNone\u001b[0m\u001b[0;34m\u001b[0m\u001b[0;34m\u001b[0m\u001b[0m\n",
      "\u001b[0;32mpandas/_libs/parsers.pyx\u001b[0m in \u001b[0;36mpandas._libs.parsers.TextReader.__cinit__\u001b[0;34m()\u001b[0m\n",
      "\u001b[0;32mpandas/_libs/parsers.pyx\u001b[0m in \u001b[0;36mpandas._libs.parsers.TextReader._setup_parser_source\u001b[0;34m()\u001b[0m\n",
      "\u001b[0;31mFileNotFoundError\u001b[0m: File b'ml-100k/u.data' does not exist"
     ]
    }
   ],
   "source": [
    "Ratings_base = pd.read_table(\"ml-100k/u.data\", header=None)\n",
    "Ratings_base.columns = [\"userId\", \"movieId\", \"rating\", \"timestamp\"]"
   ]
  },
  {
   "cell_type": "code",
   "execution_count": 20,
   "metadata": {
    "collapsed": true
   },
   "outputs": [],
   "source": [
    "train = pd.read_table(\"ml-100k/u1.base\", header = None)\n",
    "train.columns = [\"userId\", \"movieId\", \"rating\", \"timestamp\"]\n",
    "test = pd.read_table(\"ml-100k/u1.base\", header = None)\n",
    "test.columns = [\"userId\", \"movieId\", \"rating\", \"timestamp\"]"
   ]
  },
  {
   "cell_type": "code",
   "execution_count": 69,
   "metadata": {
    "collapsed": true
   },
   "outputs": [],
   "source": [
    "user_feature = pd.read_table(\"ml-100k/u.user\", header = None, sep = '|')\n",
    "user_feature.columns = [\"user_id\", \"age\", \"gender\", \"occupation\", \"zip_code\"]"
   ]
  },
  {
   "cell_type": "code",
   "execution_count": 73,
   "metadata": {
    "collapsed": true
   },
   "outputs": [],
   "source": [
    "item_feature = pd.read_table(\"ml-100k/u.item\", header = None, sep = '|', encoding = 'latin')\n",
    "item_feature.columns = ['movie_id', 'movie_title', 'release_date', 'video_release_date', 'imdb_url',\n",
    "                        'unknown', 'action', 'adventure',\n",
    "                        'animation', 'children', 'comedy', 'crime', 'documentary', 'drama', 'fantasy',\n",
    "                        'film_noir', 'horror', 'musical', 'mystery', 'romance', 'sci_fi',\n",
    "                        'thriller', 'war', 'western']"
   ]
  },
  {
   "cell_type": "code",
   "execution_count": 33,
   "metadata": {
    "collapsed": true
   },
   "outputs": [],
   "source": [
    "def create_user_item(Ratings, data):\n",
    "    uniq_users = list(Ratings.userId.unique())\n",
    "    uniq_item = list(Ratings.movieId.unique())\n",
    "    user_item_mat = sp.lil_matrix((len(uniq_users), len(uniq_item)), dtype=np.int32)\n",
    "    for i in range(len(data)):\n",
    "        user_index = uniq_users.index(Ratings.userId.iloc[i])\n",
    "        item_index = uniq_item.index(Ratings.movieId.iloc[i])\n",
    "        user_item_mat[user_index,item_index] = Ratings.rating.iloc[i]\n",
    "    return user_item_mat.tocoo(), uniq_users , uniq_item"
   ]
  },
  {
   "cell_type": "code",
   "execution_count": 80,
   "metadata": {
    "collapsed": true
   },
   "outputs": [],
   "source": [
    "def create_item_feature(Ratings, data):\n",
    "    uniq_item = list(Ratings.movieId.unique())\n",
    "    feature_column_mapping = {'movie_id':0, 'movie_title':1, 'release_date':2, 'video_release_date':3, 'imdb_url':4,\n",
    "                              'unknown':5, 'action':6, 'adventure': 7,'animation': 8, 'children': 9, 'comedy':10,\n",
    "                              'crime':11, 'documentary':12, 'drama':13, 'fantasy':14, 'film_noir':15, 'horror':16,\n",
    "                              'musical':17, 'mystery':18, 'romance':19, 'sci_fi':20, 'thriller':21, 'war':22,\n",
    "                              'western':23}\n",
    "    feature_encoding = {'unknown':0, 'action':1, 'adventure':2,\n",
    "                        'animation':3, 'children':4, 'comedy':5, 'crime':6, 'documentary':7, 'drama':8, 'fantasy':9,\n",
    "                        'film_noir':10, 'horror':11, 'musical':12, 'mystery':13, 'romance':14, 'sci_fi':15,\n",
    "                        'thriller':16, 'war':17, 'western':18}\n",
    "    item_feature_mat = sp.lil_matrix((len(uniq_item), len(feature_encoding.keys())), dtype=np.int32)\n",
    "    for i in range(len(data)):\n",
    "        item_index = uniq_item.index(data.movie_id.iloc[i])\n",
    "        for j in data.columns:\n",
    "            if j in feature_encoding.keys():\n",
    "                feature_index = feature_encoding[j]\n",
    "                item_feature_mat[item_index, feature_index] = data.iloc[i, feature_column_mapping[j]]\n",
    "    return item_feature_mat.tocsr()"
   ]
  },
  {
   "cell_type": "code",
   "execution_count": 95,
   "metadata": {
    "collapsed": true
   },
   "outputs": [],
   "source": [
    "def create_user_feature(Ratings, data):\n",
    "    uniq_user = list(Ratings.userId.unique())\n",
    "    uniq_gender = list(data.gender.unique())\n",
    "    uniq_occupation = list(data.occupation.unique())\n",
    "    uniq_zip = list(data.zip_code.unique())\n",
    "    feature_column_mapping = {\"user_id\":0, \"age\":1, \"gender\":2, \"occupation\":3, \"zip_code\":4}\n",
    "    feature_encoding = {\"age\":0, \"gender\":1, \"occupation\":2, \"zip_code\":3}\n",
    "    user_feature_mat = sp.lil_matrix((len(uniq_user), len(feature_encoding.keys())), dtype=np.int32)\n",
    "    for i in range(len(data)):\n",
    "        user_index = uniq_user.index(data.user_id.iloc[i])\n",
    "        for j in data.columns:\n",
    "            if j in feature_encoding.keys():\n",
    "                feature_index = feature_encoding[j]\n",
    "                #print(j)\n",
    "                if j == \"gender\":\n",
    "                    value = uniq_gender.index(data.iloc[i, feature_column_mapping[j]])\n",
    "                elif j == \"occupation\":\n",
    "                    value = uniq_occupation.index(data.iloc[i, feature_column_mapping[j]])\n",
    "                elif j == \"zip_code\":\n",
    "                    value = uniq_zip.index(data.iloc[i, feature_column_mapping[j]])\n",
    "                else:\n",
    "                    value = data.iloc[i, feature_column_mapping[j]]\n",
    "                user_feature_mat[user_index, feature_index] = value\n",
    "    return user_feature_mat.tocsr()"
   ]
  },
  {
   "cell_type": "code",
   "execution_count": 5,
   "metadata": {
    "collapsed": true
   },
   "outputs": [],
   "source": [
    "def subset_data_density(Ratings,parameter, nlargest):\n",
    "    if parameter == \"movie\":\n",
    "        movie = Ratings.groupby(['movieId']).movieId.value_counts().nlargest(nlargest)\n",
    "        l1 = list(dict(movie).keys())\n",
    "        l2 = [ x[0] for x in l1]\n",
    "        Ratings = Ratings[Ratings.movieId.isin(l2)]\n",
    "        return Ratings\n",
    "    elif parameter == \"user\":\n",
    "        user = Ratings.groupby(['userId']).userId.value_counts().nlargest(nlargest)\n",
    "        l1 = list(dict(user).keys())\n",
    "        l2 = [ x[0] for x in l1]\n",
    "        Ratings = Ratings[Ratings.userId.isin(l2)]\n",
    "        return Ratings"
   ]
  },
  {
   "cell_type": "code",
   "execution_count": 6,
   "metadata": {
    "collapsed": true
   },
   "outputs": [],
   "source": [
    "def subset_data_size(Ratings, size):\n",
    "    return Ratings.sample(n = size)"
   ]
  },
  {
   "cell_type": "code",
   "execution_count": 7,
   "metadata": {
    "collapsed": true
   },
   "outputs": [],
   "source": [
    "def train_test_split(df, percent):\n",
    "    indices = np.random.permutation(df.shape[0])\n",
    "    num= int(np.floor((1-percent)*df.shape[0]))\n",
    "    training_idx, test_idx = indices[:num], indices[num:]\n",
    "    train_set = df.iloc[training_idx]\n",
    "    test_set = df.iloc[test_idx]\n",
    "    return train_set, test_set"
   ]
  },
  {
   "cell_type": "code",
   "execution_count": 1,
   "metadata": {
    "collapsed": true
   },
   "outputs": [],
   "source": [
    "def predict_fm_user_item(train, test, learn_rate, latent_dimension):\n",
    "    model = LightFM(learning_rate = learn_rate, no_components = latent_dimension, loss = 'warp')\n",
    "    model.fit(train, epochs=50)\n",
    "    \n",
    "    train_precision = precision_at_k(model, train, k=10).mean()\n",
    "    test_precision = precision_at_k(model, test, k=10).mean()\n",
    "    \n",
    "    train_recall = recall_at_k(model, train, k=10).mean()\n",
    "    test_recall = recall_at_k(model, test, k=10).mean()\n",
    "\n",
    "    train_auc = auc_score(model, train).mean()\n",
    "    test_auc = auc_score(model, test).mean()\n",
    "\n",
    "    print('Precision: train %.2f, test %.2f.' % (train_precision, test_precision))\n",
    "    print('Recall: train %.2f, test %.2f.' % (train_recall, test_recall))\n",
    "    print('AUC: train %.2f, test %.2f.' % (train_auc, test_auc))"
   ]
  },
  {
   "cell_type": "code",
   "execution_count": 97,
   "metadata": {
    "collapsed": true
   },
   "outputs": [],
   "source": [
    "def predict_fm_user_item_feature(train, test, item_feature_mat, user_feature_mat, learn_rate, latent_dimension):\n",
    "    model = LightFM(learning_rate = learn_rate, no_components = latent_dimension)\n",
    "    model.fit(train, item_features = item_feature_mat, user_features = user_feature_mat, epochs=50)\n",
    "    \n",
    "    train_precision = precision_at_k(model, train, item_features=item_feature_mat,\n",
    "                                     user_features = user_feature_mat, k=10).mean()\n",
    "    test_precision = precision_at_k(model, test, item_features=item_feature_mat,\n",
    "                                    user_features = user_feature_mat, k=10).mean()\n",
    "    \n",
    "    train_recall = recall_at_k(model, train, item_features=item_feature_mat,\n",
    "                               user_features = user_feature_mat, k=10).mean()\n",
    "    test_recall = recall_at_k(model, test, item_features=item_feature_mat,\n",
    "                              user_features = user_feature_mat, k=10).mean()\n",
    "\n",
    "    train_auc = auc_score(model, train, item_features=item_feature_mat, user_features = user_feature_mat).mean()\n",
    "    test_auc = auc_score(model, test, item_features=item_feature_mat, user_features = user_feature_mat).mean()\n",
    "\n",
    "    print('Precision: train %.2f, test %.2f.' % (train_precision, test_precision))\n",
    "    print('Recall: train %.2f, test %.2f.' % (train_recall, test_recall))\n",
    "    print('AUC: train %.2f, test %.2f.' % (train_auc, test_auc))"
   ]
  },
  {
   "cell_type": "code",
   "execution_count": 3,
   "metadata": {},
   "outputs": [
    {
     "ename": "NameError",
     "evalue": "name 'train_test_split' is not defined",
     "output_type": "error",
     "traceback": [
      "\u001b[0;31m---------------------------------------------------------------------------\u001b[0m",
      "\u001b[0;31mNameError\u001b[0m                                 Traceback (most recent call last)",
      "\u001b[0;32m<ipython-input-3-ba9c9df452f7>\u001b[0m in \u001b[0;36m<module>\u001b[0;34m()\u001b[0m\n\u001b[0;32m----> 1\u001b[0;31m \u001b[0mtrain\u001b[0m\u001b[0;34m,\u001b[0m \u001b[0mtest\u001b[0m \u001b[0;34m=\u001b[0m \u001b[0mtrain_test_split\u001b[0m\u001b[0;34m(\u001b[0m\u001b[0mRatings_base\u001b[0m\u001b[0;34m,\u001b[0m \u001b[0;36m0.2\u001b[0m\u001b[0;34m)\u001b[0m\u001b[0;34m\u001b[0m\u001b[0;34m\u001b[0m\u001b[0m\n\u001b[0m",
      "\u001b[0;31mNameError\u001b[0m: name 'train_test_split' is not defined"
     ]
    }
   ],
   "source": [
    "train, test = train_test_split(Ratings_base, 0.2)"
   ]
  },
  {
   "cell_type": "code",
   "execution_count": 65,
   "metadata": {
    "collapsed": true
   },
   "outputs": [],
   "source": [
    "user_item_test, uniq_users , uniq_item = create_user_item(Ratings_base, test)"
   ]
  },
  {
   "cell_type": "code",
   "execution_count": 66,
   "metadata": {
    "collapsed": true
   },
   "outputs": [],
   "source": [
    "user_item_train, uniq_users , uniq_item = create_user_item(Ratings_base, train)"
   ]
  },
  {
   "cell_type": "code",
   "execution_count": 2,
   "metadata": {},
   "outputs": [
    {
     "ename": "NameError",
     "evalue": "name 'user_item_train' is not defined",
     "output_type": "error",
     "traceback": [
      "\u001b[0;31m---------------------------------------------------------------------------\u001b[0m",
      "\u001b[0;31mNameError\u001b[0m                                 Traceback (most recent call last)",
      "\u001b[0;32m<ipython-input-2-83eada6b0f77>\u001b[0m in \u001b[0;36m<module>\u001b[0;34m()\u001b[0m\n\u001b[0;32m----> 1\u001b[0;31m \u001b[0mpredict_fm_user_item\u001b[0m\u001b[0;34m(\u001b[0m\u001b[0muser_item_train\u001b[0m\u001b[0;34m,\u001b[0m \u001b[0muser_item_test\u001b[0m\u001b[0;34m,\u001b[0m \u001b[0;36m0.1\u001b[0m\u001b[0;34m,\u001b[0m \u001b[0;36m10\u001b[0m\u001b[0;34m)\u001b[0m\u001b[0;34m\u001b[0m\u001b[0;34m\u001b[0m\u001b[0m\n\u001b[0m",
      "\u001b[0;31mNameError\u001b[0m: name 'user_item_train' is not defined"
     ]
    }
   ],
   "source": [
    "predict_fm_user_item(user_item_train, user_item_test, 0.1, 10)"
   ]
  },
  {
   "cell_type": "code",
   "execution_count": 81,
   "metadata": {
    "collapsed": true
   },
   "outputs": [],
   "source": [
    "item_feature_mat = create_item_feature(Ratings_base, item_feature)"
   ]
  },
  {
   "cell_type": "code",
   "execution_count": 96,
   "metadata": {
    "collapsed": true
   },
   "outputs": [],
   "source": [
    "user_feature_mat = create_user_feature(Ratings_base, user_feature)"
   ]
  },
  {
   "cell_type": "code",
   "execution_count": 98,
   "metadata": {},
   "outputs": [
    {
     "name": "stdout",
     "output_type": "stream",
     "text": [
      "Precision: train 0.06, test 0.03.\n",
      "Recall: train 0.01, test 0.01.\n",
      "AUC: train 0.45, test 0.45.\n"
     ]
    }
   ],
   "source": [
    "predict_fm_user_item_feature(user_item_train, user_item_test, item_feature_mat, user_feature_mat, 0.1, 10)"
   ]
  },
  {
   "cell_type": "code",
   "execution_count": null,
   "metadata": {
    "collapsed": true
   },
   "outputs": [],
   "source": []
  }
 ],
 "metadata": {
  "kernelspec": {
   "display_name": "Python 3",
   "language": "python",
   "name": "python3"
  },
  "language_info": {
   "codemirror_mode": {
    "name": "ipython",
    "version": 3
   },
   "file_extension": ".py",
   "mimetype": "text/x-python",
   "name": "python",
   "nbconvert_exporter": "python",
   "pygments_lexer": "ipython3",
   "version": "3.6.7"
  }
 },
 "nbformat": 4,
 "nbformat_minor": 2
}
