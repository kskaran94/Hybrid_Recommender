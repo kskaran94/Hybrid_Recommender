{
 "cells": [
  {
   "cell_type": "markdown",
   "metadata": {},
   "source": [
    "Importing all necessary libraries -"
   ]
  },
  {
   "cell_type": "code",
   "execution_count": 2,
   "metadata": {},
   "outputs": [],
   "source": [
    "import pandas as pd\n",
    "import numpy as np\n",
    "from scipy.stats import pearsonr\n",
    "import implicit\n",
    "import time\n",
    "from scipy import sparse\n",
    "import scipy.sparse as sp\n",
    "import matplotlib.pyplot as plt\n",
    "%matplotlib inline\n",
    "from lightfm import LightFM\n",
    "from lightfm.evaluation import precision_at_k\n",
    "from lightfm.evaluation import recall_at_k\n",
    "from lightfm.evaluation import auc_score"
   ]
  },
  {
   "cell_type": "markdown",
   "metadata": {},
   "source": [
    "Reading the entire data -"
   ]
  },
  {
   "cell_type": "code",
   "execution_count": 3,
   "metadata": {
    "collapsed": true
   },
   "outputs": [],
   "source": [
    "Ratings_base = pd.read_table(\"ml-100k/u.data\", header=None)\n",
    "Ratings_base.columns = [\"userId\", \"movieId\", \"rating\", \"timestamp\"]"
   ]
  },
  {
   "cell_type": "code",
   "execution_count": 4,
   "metadata": {
    "collapsed": true
   },
   "outputs": [],
   "source": [
    "train = pd.read_table(\"ml-100k/u1.base\", header = None)\n",
    "train.columns = [\"userId\", \"movieId\", \"rating\", \"timestamp\"]\n",
    "test = pd.read_table(\"ml-100k/u1.base\", header = None)\n",
    "test.columns = [\"userId\", \"movieId\", \"rating\", \"timestamp\"]"
   ]
  },
  {
   "cell_type": "code",
   "execution_count": 5,
   "metadata": {
    "collapsed": true
   },
   "outputs": [],
   "source": [
    "user_feature = pd.read_table(\"ml-100k/u.user\", header = None, sep = '|')\n",
    "user_feature.columns = [\"user_id\", \"age\", \"gender\", \"occupation\", \"zip_code\"]"
   ]
  },
  {
   "cell_type": "code",
   "execution_count": 6,
   "metadata": {
    "collapsed": true
   },
   "outputs": [],
   "source": [
    "item_feature = pd.read_table(\"ml-100k/u.item\", header = None, sep = '|', encoding = 'latin')\n",
    "item_feature.columns = ['movie_id', 'movie_title', 'release_date', 'video_release_date', 'imdb_url',\n",
    "                        'unknown', 'action', 'adventure',\n",
    "                        'animation', 'children', 'comedy', 'crime', 'documentary', 'drama', 'fantasy',\n",
    "                        'film_noir', 'horror', 'musical', 'mystery', 'romance', 'sci_fi',\n",
    "                        'thriller', 'war', 'western']"
   ]
  },
  {
   "cell_type": "code",
   "execution_count": 7,
   "metadata": {
    "collapsed": true
   },
   "outputs": [],
   "source": [
    "def create_user_item(Ratings, data):\n",
    "    uniq_users = list(Ratings.userId.unique())\n",
    "    uniq_item = list(Ratings.movieId.unique())\n",
    "    user_item_mat = sp.lil_matrix((len(uniq_users), len(uniq_item)), dtype=np.int32)\n",
    "    for i in range(len(data)):\n",
    "        user_index = uniq_users.index(Ratings.userId.iloc[i])\n",
    "        item_index = uniq_item.index(Ratings.movieId.iloc[i])\n",
    "        user_item_mat[user_index,item_index] = Ratings.rating.iloc[i]\n",
    "    return user_item_mat.tocoo(), uniq_users , uniq_item"
   ]
  },
  {
   "cell_type": "code",
   "execution_count": 8,
   "metadata": {
    "collapsed": true
   },
   "outputs": [],
   "source": [
    "def create_item_feature(Ratings, data):\n",
    "    uniq_item = list(Ratings.movieId.unique())\n",
    "    feature_column_mapping = {'movie_id':0, 'movie_title':1, 'release_date':2, 'video_release_date':3, 'imdb_url':4,\n",
    "                              'unknown':5, 'action':6, 'adventure': 7,'animation': 8, 'children': 9, 'comedy':10,\n",
    "                              'crime':11, 'documentary':12, 'drama':13, 'fantasy':14, 'film_noir':15, 'horror':16,\n",
    "                              'musical':17, 'mystery':18, 'romance':19, 'sci_fi':20, 'thriller':21, 'war':22,\n",
    "                              'western':23}\n",
    "    feature_encoding = {'unknown':0, 'action':1, 'adventure':2,\n",
    "                        'animation':3, 'children':4, 'comedy':5, 'crime':6, 'documentary':7, 'drama':8, 'fantasy':9,\n",
    "                        'film_noir':10, 'horror':11, 'musical':12, 'mystery':13, 'romance':14, 'sci_fi':15,\n",
    "                        'thriller':16, 'war':17, 'western':18}\n",
    "    item_feature_mat = sp.lil_matrix((len(uniq_item), len(feature_encoding.keys())), dtype=np.int32)\n",
    "    for i in range(len(data)):\n",
    "        item_index = uniq_item.index(data.movie_id.iloc[i])\n",
    "        for j in data.columns:\n",
    "            if j in feature_encoding.keys():\n",
    "                feature_index = feature_encoding[j]\n",
    "                item_feature_mat[item_index, feature_index] = data.iloc[i, feature_column_mapping[j]]\n",
    "    return item_feature_mat.tocsr()"
   ]
  },
  {
   "cell_type": "code",
   "execution_count": 9,
   "metadata": {
    "collapsed": true
   },
   "outputs": [],
   "source": [
    "def create_user_feature(Ratings, data):\n",
    "    uniq_user = list(Ratings.userId.unique())\n",
    "    uniq_gender = list(data.gender.unique())\n",
    "    uniq_occupation = list(data.occupation.unique())\n",
    "    uniq_zip = list(data.zip_code.unique())\n",
    "    feature_column_mapping = {\"user_id\":0, \"age\":1, \"gender\":2, \"occupation\":3, \"zip_code\":4}\n",
    "    feature_encoding = {\"age\":0, \"gender\":1, \"occupation\":2, \"zip_code\":3}\n",
    "    user_feature_mat = sp.lil_matrix((len(uniq_user), len(feature_encoding.keys())), dtype=np.int32)\n",
    "    for i in range(len(data)):\n",
    "        user_index = uniq_user.index(data.user_id.iloc[i])\n",
    "        for j in data.columns:\n",
    "            if j in feature_encoding.keys():\n",
    "                feature_index = feature_encoding[j]\n",
    "                #print(j)\n",
    "                if j == \"gender\":\n",
    "                    value = uniq_gender.index(data.iloc[i, feature_column_mapping[j]])\n",
    "                elif j == \"occupation\":\n",
    "                    value = uniq_occupation.index(data.iloc[i, feature_column_mapping[j]])\n",
    "                elif j == \"zip_code\":\n",
    "                    value = uniq_zip.index(data.iloc[i, feature_column_mapping[j]])\n",
    "                else:\n",
    "                    value = data.iloc[i, feature_column_mapping[j]]\n",
    "                user_feature_mat[user_index, feature_index] = value\n",
    "    return user_feature_mat.tocsr()"
   ]
  },
  {
   "cell_type": "code",
   "execution_count": 10,
   "metadata": {
    "collapsed": true
   },
   "outputs": [],
   "source": [
    "def subset_data_density(Ratings,parameter, nlargest):\n",
    "    if parameter == \"movie\":\n",
    "        movie = Ratings.groupby(['movieId']).movieId.value_counts().nlargest(nlargest)\n",
    "        l1 = list(dict(movie).keys())\n",
    "        l2 = [ x[0] for x in l1]\n",
    "        Ratings = Ratings[Ratings.movieId.isin(l2)]\n",
    "        return Ratings\n",
    "    elif parameter == \"user\":\n",
    "        user = Ratings.groupby(['userId']).userId.value_counts().nlargest(nlargest)\n",
    "        l1 = list(dict(user).keys())\n",
    "        l2 = [ x[0] for x in l1]\n",
    "        Ratings = Ratings[Ratings.userId.isin(l2)]\n",
    "        return Ratings"
   ]
  },
  {
   "cell_type": "code",
   "execution_count": 11,
   "metadata": {
    "collapsed": true
   },
   "outputs": [],
   "source": [
    "def subset_data_size(Ratings, size):\n",
    "    return Ratings.sample(n = size)"
   ]
  },
  {
   "cell_type": "code",
   "execution_count": 12,
   "metadata": {
    "collapsed": true
   },
   "outputs": [],
   "source": [
    "def train_test_split(df, percent):\n",
    "    indices = np.random.permutation(df.shape[0])\n",
    "    num= int(np.floor((1-percent)*df.shape[0]))\n",
    "    training_idx, test_idx = indices[:num], indices[num:]\n",
    "    train_set = df.iloc[training_idx]\n",
    "    test_set = df.iloc[test_idx]\n",
    "    return train_set, test_set"
   ]
  },
  {
   "cell_type": "code",
   "execution_count": 13,
   "metadata": {
    "collapsed": true
   },
   "outputs": [],
   "source": [
    "def predict_fm_user_item(train, test, learn_rate, latent_dimension):\n",
    "    model = LightFM(learning_rate = learn_rate, no_components = latent_dimension, loss = 'warp')\n",
    "    model.fit(train, epochs=50)\n",
    "    \n",
    "    train_precision = precision_at_k(model, train, k=10).mean()\n",
    "    test_precision = precision_at_k(model, test, k=10).mean()\n",
    "    \n",
    "    train_recall = recall_at_k(model, train, k=10).mean()\n",
    "    test_recall = recall_at_k(model, test, k=10).mean()\n",
    "\n",
    "    train_auc = auc_score(model, train).mean()\n",
    "    test_auc = auc_score(model, test).mean()\n",
    "\n",
    "    print('Precision: train %.2f, test %.2f.' % (train_precision, test_precision))\n",
    "    print('Recall: train %.2f, test %.2f.' % (train_recall, test_recall))\n",
    "    print('AUC: train %.2f, test %.2f.' % (train_auc, test_auc))"
   ]
  },
  {
   "cell_type": "code",
   "execution_count": 14,
   "metadata": {
    "collapsed": true
   },
   "outputs": [],
   "source": [
    "def predict_fm_user_item_feature(train, test, item_feature_mat, user_feature_mat, learn_rate, latent_dimension):\n",
    "    model = LightFM(learning_rate = learn_rate, no_components = latent_dimension, loss = 'warp')\n",
    "    model.fit(train, item_features = item_feature_mat, user_features = user_feature_mat, epochs=50)\n",
    "    \n",
    "    train_precision = precision_at_k(model, train, item_features=item_feature_mat,\n",
    "                                     user_features = user_feature_mat, k=10).mean()\n",
    "    test_precision = precision_at_k(model, test, item_features=item_feature_mat,\n",
    "                                    user_features = user_feature_mat, k=10).mean()\n",
    "    \n",
    "    train_recall = recall_at_k(model, train, item_features=item_feature_mat,\n",
    "                               user_features = user_feature_mat, k=10).mean()\n",
    "    test_recall = recall_at_k(model, test, item_features=item_feature_mat,\n",
    "                              user_features = user_feature_mat, k=10).mean()\n",
    "\n",
    "    train_auc = auc_score(model, train, item_features=item_feature_mat, user_features = user_feature_mat).mean()\n",
    "    test_auc = auc_score(model, test, item_features=item_feature_mat, user_features = user_feature_mat).mean()\n",
    "\n",
    "    print('Precision: train %.2f, test %.2f.' % (train_precision, test_precision))\n",
    "    print('Recall: train %.2f, test %.2f.' % (train_recall, test_recall))\n",
    "    print('AUC: train %.2f, test %.2f.' % (train_auc, test_auc))"
   ]
  },
  {
   "cell_type": "markdown",
   "metadata": {},
   "source": [
    "# Checking performance on different test - train proportions -"
   ]
  },
  {
   "cell_type": "code",
   "execution_count": 15,
   "metadata": {
    "collapsed": true
   },
   "outputs": [],
   "source": [
    "train_test_proportions = [0.5, 0.4, 0.3, 0.2, 0.1]"
   ]
  },
  {
   "cell_type": "code",
   "execution_count": 16,
   "metadata": {},
   "outputs": [
    {
     "name": "stdout",
     "output_type": "stream",
     "text": [
      "Performance metrics for split  0.5 -\n",
      "Without user/item features -\n",
      "Precision: train 0.49, test 0.49.\n",
      "Recall: train 0.15, test 0.15.\n",
      "AUC: train 0.95, test 0.95.\n",
      "--------------------------------------------------\n",
      "With user/item features -\n",
      "Precision: train 0.12, test 0.12.\n",
      "Recall: train 0.02, test 0.02.\n",
      "AUC: train 0.54, test 0.54.\n",
      "##################################################\n",
      "Performance metrics for split  0.4 -\n",
      "Without user/item features -\n",
      "Precision: train 0.52, test 0.45.\n",
      "Recall: train 0.15, test 0.14.\n",
      "AUC: train 0.95, test 0.95.\n",
      "--------------------------------------------------\n",
      "With user/item features -\n",
      "Precision: train 0.09, test 0.08.\n",
      "Recall: train 0.01, test 0.01.\n",
      "AUC: train 0.52, test 0.51.\n",
      "##################################################\n",
      "Performance metrics for split  0.3 -\n",
      "Without user/item features -\n",
      "Precision: train 0.56, test 0.38.\n",
      "Recall: train 0.15, test 0.12.\n",
      "AUC: train 0.95, test 0.94.\n",
      "--------------------------------------------------\n",
      "With user/item features -\n",
      "Precision: train 0.06, test 0.04.\n",
      "Recall: train 0.01, test 0.01.\n",
      "AUC: train 0.47, test 0.48.\n",
      "##################################################\n",
      "Performance metrics for split  0.2 -\n",
      "Without user/item features -\n",
      "Precision: train 0.64, test 0.31.\n",
      "Recall: train 0.14, test 0.13.\n",
      "AUC: train 0.95, test 0.94.\n",
      "--------------------------------------------------\n",
      "With user/item features -\n",
      "Precision: train 0.17, test 0.08.\n",
      "Recall: train 0.03, test 0.03.\n",
      "AUC: train 0.49, test 0.49.\n",
      "##################################################\n",
      "Performance metrics for split  0.1 -\n",
      "Without user/item features -\n",
      "Precision: train 0.71, test 0.19.\n",
      "Recall: train 0.14, test 0.14.\n",
      "AUC: train 0.96, test 0.93.\n",
      "--------------------------------------------------\n",
      "With user/item features -\n",
      "Precision: train 0.09, test 0.02.\n",
      "Recall: train 0.01, test 0.01.\n",
      "AUC: train 0.48, test 0.47.\n",
      "##################################################\n"
     ]
    }
   ],
   "source": [
    "for proportion in train_test_proportions:\n",
    "    train, test = train_test_split(Ratings_base, proportion)\n",
    "    user_item_test, uniq_users , uniq_item = create_user_item(Ratings_base, test)\n",
    "    user_item_train, uniq_users , uniq_item = create_user_item(Ratings_base, train)\n",
    "    print(\"Performance metrics for split \", proportion, \"-\")\n",
    "    print(\"Without user/item features -\")\n",
    "    predict_fm_user_item(user_item_train, user_item_test, 0.1, 10)\n",
    "    item_feature_mat = create_item_feature(Ratings_base, item_feature)\n",
    "    user_feature_mat = create_user_feature(Ratings_base, user_feature)\n",
    "    print(\"--------------------------------------------------\")\n",
    "    print(\"With user/item features -\")\n",
    "    predict_fm_user_item_feature(user_item_train, user_item_test, item_feature_mat, user_feature_mat, 0.1, 10)\n",
    "    print(\"##################################################\")"
   ]
  },
  {
   "cell_type": "markdown",
   "metadata": {},
   "source": [
    "# Checking performance on different alpha rates -"
   ]
  },
  {
   "cell_type": "code",
   "execution_count": 17,
   "metadata": {
    "collapsed": true
   },
   "outputs": [],
   "source": [
    "alpha_rates = [0.005, 0.01, 0.05, 0.1, 0.5]"
   ]
  },
  {
   "cell_type": "code",
   "execution_count": 18,
   "metadata": {},
   "outputs": [
    {
     "name": "stdout",
     "output_type": "stream",
     "text": [
      "Performance metrics for learning rate  0.005 -\n",
      "Without user/item features -\n",
      "Precision: train 0.44, test 0.21.\n",
      "Recall: train 0.08, test 0.07.\n",
      "AUC: train 0.86, test 0.84.\n",
      "--------------------------------------------------\n",
      "With user/item features -\n",
      "Precision: train 0.21, test 0.10.\n",
      "Recall: train 0.03, test 0.03.\n",
      "AUC: train 0.63, test 0.62.\n",
      "##################################################\n",
      "Performance metrics for learning rate  0.01 -\n",
      "Without user/item features -\n",
      "Precision: train 0.52, test 0.24.\n",
      "Recall: train 0.11, test 0.10.\n",
      "AUC: train 0.90, test 0.89.\n",
      "--------------------------------------------------\n",
      "With user/item features -\n",
      "Precision: train 0.20, test 0.09.\n",
      "Recall: train 0.03, test 0.03.\n",
      "AUC: train 0.61, test 0.61.\n",
      "##################################################\n",
      "Performance metrics for learning rate  0.05 -\n",
      "Without user/item features -\n",
      "Precision: train 0.63, test 0.31.\n",
      "Recall: train 0.14, test 0.13.\n",
      "AUC: train 0.95, test 0.93.\n",
      "--------------------------------------------------\n",
      "With user/item features -\n",
      "Precision: train 0.06, test 0.03.\n",
      "Recall: train 0.01, test 0.01.\n",
      "AUC: train 0.46, test 0.46.\n",
      "##################################################\n",
      "Performance metrics for learning rate  0.1 -\n",
      "Without user/item features -\n",
      "Precision: train 0.64, test 0.31.\n",
      "Recall: train 0.14, test 0.13.\n",
      "AUC: train 0.95, test 0.94.\n",
      "--------------------------------------------------\n",
      "With user/item features -\n",
      "Precision: train 0.02, test 0.01.\n",
      "Recall: train 0.00, test 0.00.\n",
      "AUC: train 0.55, test 0.54.\n",
      "##################################################\n",
      "Performance metrics for learning rate  0.5 -\n",
      "Without user/item features -\n",
      "Precision: train 0.04, test 0.02.\n",
      "Recall: train 0.01, test 0.01.\n",
      "AUC: train 0.52, test 0.52.\n",
      "--------------------------------------------------\n",
      "With user/item features -\n",
      "Precision: train 0.24, test 0.11.\n",
      "Recall: train 0.03, test 0.03.\n",
      "AUC: train 0.53, test 0.53.\n",
      "##################################################\n"
     ]
    }
   ],
   "source": [
    "for alpha in alpha_rates:\n",
    "    train, test = train_test_split(Ratings_base, 0.2)\n",
    "    user_item_test, uniq_users , uniq_item = create_user_item(Ratings_base, test)\n",
    "    user_item_train, uniq_users , uniq_item = create_user_item(Ratings_base, train)\n",
    "    print(\"Performance metrics for learning rate \", alpha, \"-\")\n",
    "    print(\"Without user/item features -\")\n",
    "    predict_fm_user_item(user_item_train, user_item_test, alpha, 10)\n",
    "    item_feature_mat = create_item_feature(Ratings_base, item_feature)\n",
    "    user_feature_mat = create_user_feature(Ratings_base, user_feature)\n",
    "    print(\"--------------------------------------------------\")\n",
    "    print(\"With user/item features -\")\n",
    "    predict_fm_user_item_feature(user_item_train, user_item_test, item_feature_mat, user_feature_mat, alpha, 10)\n",
    "    print(\"##################################################\")"
   ]
  },
  {
   "cell_type": "markdown",
   "metadata": {},
   "source": [
    "# Checking performance on different number of latent dimensions -"
   ]
  },
  {
   "cell_type": "code",
   "execution_count": 19,
   "metadata": {
    "collapsed": true
   },
   "outputs": [],
   "source": [
    "latent_dimensions = [1, 5, 10, 20, 50]"
   ]
  },
  {
   "cell_type": "code",
   "execution_count": 20,
   "metadata": {},
   "outputs": [
    {
     "name": "stdout",
     "output_type": "stream",
     "text": [
      "Performance metrics for  1 latent dimensions -\n",
      "Without user/item features -\n",
      "Precision: train 0.51, test 0.24.\n",
      "Recall: train 0.10, test 0.10.\n",
      "AUC: train 0.91, test 0.89.\n",
      "--------------------------------------------------\n",
      "With user/item features -\n",
      "Precision: train 0.06, test 0.03.\n",
      "Recall: train 0.01, test 0.01.\n",
      "AUC: train 0.52, test 0.52.\n",
      "##################################################\n",
      "Performance metrics for  5 latent dimensions -\n",
      "Without user/item features -\n",
      "Precision: train 0.60, test 0.29.\n",
      "Recall: train 0.13, test 0.13.\n",
      "AUC: train 0.94, test 0.93.\n",
      "--------------------------------------------------\n",
      "With user/item features -\n",
      "Precision: train 0.11, test 0.04.\n",
      "Recall: train 0.01, test 0.01.\n",
      "AUC: train 0.51, test 0.47.\n",
      "##################################################\n",
      "Performance metrics for  10 latent dimensions -\n",
      "Without user/item features -\n",
      "Precision: train 0.64, test 0.30.\n",
      "Recall: train 0.14, test 0.13.\n",
      "AUC: train 0.95, test 0.94.\n",
      "--------------------------------------------------\n",
      "With user/item features -\n",
      "Precision: train 0.01, test 0.01.\n",
      "Recall: train 0.00, test 0.00.\n",
      "AUC: train 0.46, test 0.46.\n",
      "##################################################\n",
      "Performance metrics for  20 latent dimensions -\n",
      "Without user/item features -\n",
      "Precision: train 0.69, test 0.32.\n",
      "Recall: train 0.16, test 0.14.\n",
      "AUC: train 0.97, test 0.95.\n",
      "--------------------------------------------------\n",
      "With user/item features -\n",
      "Precision: train 0.02, test 0.01.\n",
      "Recall: train 0.00, test 0.00.\n",
      "AUC: train 0.44, test 0.43.\n",
      "##################################################\n",
      "Performance metrics for  50 latent dimensions -\n",
      "Without user/item features -\n",
      "Precision: train 0.83, test 0.37.\n",
      "Recall: train 0.20, test 0.17.\n",
      "AUC: train 0.99, test 0.97.\n",
      "--------------------------------------------------\n",
      "With user/item features -\n",
      "Precision: train 0.07, test 0.03.\n",
      "Recall: train 0.01, test 0.01.\n",
      "AUC: train 0.53, test 0.52.\n",
      "##################################################\n"
     ]
    }
   ],
   "source": [
    "for dimension in latent_dimensions:\n",
    "    train, test = train_test_split(Ratings_base, 0.2)\n",
    "    user_item_test, uniq_users , uniq_item = create_user_item(Ratings_base, test)\n",
    "    user_item_train, uniq_users , uniq_item = create_user_item(Ratings_base, train)\n",
    "    print(\"Performance metrics for \", dimension, \"latent dimensions -\")\n",
    "    print(\"Without user/item features -\")\n",
    "    predict_fm_user_item(user_item_train, user_item_test, 0.1, dimension)\n",
    "    item_feature_mat = create_item_feature(Ratings_base, item_feature)\n",
    "    user_feature_mat = create_user_feature(Ratings_base, user_feature)\n",
    "    print(\"--------------------------------------------------\")\n",
    "    print(\"With user/item features -\")\n",
    "    predict_fm_user_item_feature(user_item_train, user_item_test, item_feature_mat, user_feature_mat, 0.1, dimension)\n",
    "    print(\"##################################################\")"
   ]
  },
  {
   "cell_type": "markdown",
   "metadata": {},
   "source": [
    "# Checking performance by picking different item-set sizes -"
   ]
  },
  {
   "cell_type": "code",
   "execution_count": 21,
   "metadata": {
    "collapsed": true
   },
   "outputs": [],
   "source": [
    "item_set_size = [1000, 500, 250, 100, 50]"
   ]
  },
  {
   "cell_type": "code",
   "execution_count": 22,
   "metadata": {},
   "outputs": [
    {
     "name": "stdout",
     "output_type": "stream",
     "text": [
      "Performance metrics for top 1000  rated items -\n",
      "Without user/item features -\n",
      "Precision: train 0.87, test 0.39.\n",
      "Recall: train 0.22, test 0.19.\n",
      "AUC: train 0.98, test 0.95.\n",
      "--------------------------------------------------\n",
      "With user/item features -\n",
      "Precision: train 0.09, test 0.04.\n",
      "Recall: train 0.01, test 0.01.\n",
      "AUC: train 0.48, test 0.48.\n",
      "##################################################\n",
      "Performance metrics for top 500  rated items -\n",
      "Without user/item features -\n",
      "Precision: train 0.93, test 0.41.\n",
      "Recall: train 0.29, test 0.24.\n",
      "AUC: train 0.98, test 0.93.\n",
      "--------------------------------------------------\n",
      "With user/item features -\n",
      "Precision: train 0.15, test 0.07.\n",
      "Recall: train 0.03, test 0.03.\n",
      "AUC: train 0.48, test 0.48.\n",
      "##################################################\n",
      "Performance metrics for top 250  rated items -\n",
      "Without user/item features -\n",
      "Precision: train 0.97, test 0.44.\n",
      "Recall: train 0.39, test 0.33.\n",
      "AUC: train 0.99, test 0.91.\n",
      "--------------------------------------------------\n",
      "With user/item features -\n",
      "Precision: train 0.19, test 0.10.\n",
      "Recall: train 0.04, test 0.05.\n",
      "AUC: train 0.46, test 0.46.\n",
      "##################################################\n",
      "Performance metrics for top 100  rated items -\n",
      "Without user/item features -\n",
      "Precision: train 0.92, test 0.42.\n",
      "Recall: train 0.58, test 0.49.\n",
      "AUC: train 1.00, test 0.89.\n",
      "--------------------------------------------------\n",
      "With user/item features -\n",
      "Precision: train 0.27, test 0.13.\n",
      "Recall: train 0.11, test 0.11.\n",
      "AUC: train 0.50, test 0.49.\n",
      "##################################################\n",
      "Performance metrics for top 50  rated items -\n",
      "Without user/item features -\n",
      "Precision: train 0.84, test 0.40.\n",
      "Recall: train 0.73, test 0.66.\n",
      "AUC: train 1.00, test 0.87.\n",
      "--------------------------------------------------\n",
      "With user/item features -\n",
      "Precision: train 0.30, test 0.16.\n",
      "Recall: train 0.21, test 0.21.\n",
      "AUC: train 0.51, test 0.51.\n",
      "##################################################\n"
     ]
    }
   ],
   "source": [
    "for size in item_set_size:\n",
    "    subset_base = subset_data_density(Ratings_base, \"movie\", size)\n",
    "    train, test = train_test_split(subset_base, 0.2)\n",
    "    user_item_test, uniq_users , uniq_item = create_user_item(subset_base, test)\n",
    "    user_item_train, uniq_users , uniq_item = create_user_item(subset_base, train)\n",
    "    print(\"Performance metrics for top\", size, \" rated items -\")\n",
    "    print(\"Without user/item features -\")\n",
    "    predict_fm_user_item(user_item_train, user_item_test, 0.1, 50)\n",
    "    item_feature_mat = create_item_feature(Ratings_base, item_feature)\n",
    "    user_feature_mat = create_user_feature(Ratings_base, user_feature)\n",
    "    print(\"--------------------------------------------------\")\n",
    "    print(\"With user/item features -\")\n",
    "    predict_fm_user_item_feature(user_item_train, user_item_test, item_feature_mat, user_feature_mat, 0.1, 50)\n",
    "    print(\"##################################################\")"
   ]
  },
  {
   "cell_type": "markdown",
   "metadata": {},
   "source": [
    "# Checking performance by picking different user-set sizes -"
   ]
  },
  {
   "cell_type": "code",
   "execution_count": 23,
   "metadata": {
    "collapsed": true
   },
   "outputs": [],
   "source": [
    "user_set_size = [1000, 500, 250, 100, 50]"
   ]
  },
  {
   "cell_type": "code",
   "execution_count": 24,
   "metadata": {},
   "outputs": [
    {
     "name": "stdout",
     "output_type": "stream",
     "text": [
      "Performance metrics for top 1000  users -\n",
      "Without user/item features -\n",
      "Precision: train 0.83, test 0.37.\n",
      "Recall: train 0.20, test 0.17.\n",
      "AUC: train 0.99, test 0.97.\n",
      "--------------------------------------------------\n",
      "With user/item features -\n",
      "Precision: train 0.08, test 0.04.\n",
      "Recall: train 0.01, test 0.01.\n",
      "AUC: train 0.56, test 0.55.\n",
      "##################################################\n",
      "Performance metrics for top 500  users -\n",
      "Without user/item features -\n",
      "Precision: train 0.90, test 0.39.\n",
      "Recall: train 0.09, test 0.08.\n",
      "AUC: train 0.99, test 0.96.\n",
      "--------------------------------------------------\n",
      "With user/item features -\n",
      "Precision: train 0.12, test 0.07.\n",
      "Recall: train 0.01, test 0.01.\n",
      "AUC: train 0.50, test 0.49.\n",
      "##################################################\n",
      "Performance metrics for top 250  users -\n",
      "Without user/item features -\n",
      "Precision: train 0.96, test 0.41.\n",
      "Recall: train 0.06, test 0.05.\n",
      "AUC: train 0.99, test 0.95.\n",
      "--------------------------------------------------\n",
      "With user/item features -\n",
      "Precision: train 0.11, test 0.05.\n",
      "Recall: train 0.01, test 0.01.\n",
      "AUC: train 0.47, test 0.48.\n",
      "##################################################\n",
      "Performance metrics for top 100  users -\n",
      "Without user/item features -\n",
      "Precision: train 1.00, test 0.34.\n",
      "Recall: train 0.04, test 0.03.\n",
      "AUC: train 1.00, test 0.93.\n",
      "--------------------------------------------------\n",
      "With user/item features -\n",
      "Precision: train 0.13, test 0.06.\n",
      "Recall: train 0.00, test 0.00.\n",
      "AUC: train 0.46, test 0.47.\n",
      "##################################################\n",
      "Performance metrics for top 50  users -\n",
      "Without user/item features -\n",
      "Precision: train 1.00, test 0.37.\n",
      "Recall: train 0.04, test 0.03.\n",
      "AUC: train 1.00, test 0.92.\n",
      "--------------------------------------------------\n",
      "With user/item features -\n",
      "Precision: train 0.27, test 0.09.\n",
      "Recall: train 0.01, test 0.01.\n",
      "AUC: train 0.48, test 0.49.\n",
      "##################################################\n"
     ]
    }
   ],
   "source": [
    "for size in user_set_size:\n",
    "    subset_base = subset_data_density(Ratings_base, \"user\", size)\n",
    "    train, test = train_test_split(subset_base, 0.2)\n",
    "    user_item_test, uniq_users , uniq_item = create_user_item(subset_base, test)\n",
    "    user_item_train, uniq_users , uniq_item = create_user_item(subset_base, train)\n",
    "    print(\"Performance metrics for top\", size, \" users -\")\n",
    "    print(\"Without user/item features -\")\n",
    "    predict_fm_user_item(user_item_train, user_item_test, 0.1, 50)\n",
    "    item_feature_mat = create_item_feature(Ratings_base, item_feature)\n",
    "    user_feature_mat = create_user_feature(Ratings_base, user_feature)\n",
    "    print(\"--------------------------------------------------\")\n",
    "    print(\"With user/item features -\")\n",
    "    predict_fm_user_item_feature(user_item_train, user_item_test, item_feature_mat, user_feature_mat, 0.1, 50)\n",
    "    print(\"##################################################\")"
   ]
  },
  {
   "cell_type": "code",
   "execution_count": 25,
   "metadata": {
    "collapsed": true
   },
   "outputs": [],
   "source": [
    "train, test = train_test_split(Ratings_base, 0.2)"
   ]
  },
  {
   "cell_type": "code",
   "execution_count": 26,
   "metadata": {
    "collapsed": true
   },
   "outputs": [],
   "source": [
    "user_item_test, uniq_users , uniq_item = create_user_item(Ratings_base, test)"
   ]
  },
  {
   "cell_type": "code",
   "execution_count": 27,
   "metadata": {
    "collapsed": true
   },
   "outputs": [],
   "source": [
    "user_item_train, uniq_users , uniq_item = create_user_item(Ratings_base, train)"
   ]
  },
  {
   "cell_type": "code",
   "execution_count": 28,
   "metadata": {},
   "outputs": [
    {
     "name": "stdout",
     "output_type": "stream",
     "text": [
      "Precision: train 0.64, test 0.30.\n",
      "Recall: train 0.14, test 0.13.\n",
      "AUC: train 0.95, test 0.94.\n"
     ]
    }
   ],
   "source": [
    "predict_fm_user_item(user_item_train, user_item_test, 0.1, 10)"
   ]
  },
  {
   "cell_type": "code",
   "execution_count": 29,
   "metadata": {
    "collapsed": true
   },
   "outputs": [],
   "source": [
    "item_feature_mat = create_item_feature(Ratings_base, item_feature)"
   ]
  },
  {
   "cell_type": "code",
   "execution_count": 30,
   "metadata": {
    "collapsed": true
   },
   "outputs": [],
   "source": [
    "user_feature_mat = create_user_feature(Ratings_base, user_feature)"
   ]
  },
  {
   "cell_type": "code",
   "execution_count": 31,
   "metadata": {},
   "outputs": [
    {
     "name": "stdout",
     "output_type": "stream",
     "text": [
      "Precision: train 0.02, test 0.01.\n",
      "Recall: train 0.00, test 0.00.\n",
      "AUC: train 0.43, test 0.42.\n"
     ]
    }
   ],
   "source": [
    "predict_fm_user_item_feature(user_item_train, user_item_test, item_feature_mat, user_feature_mat, 0.1, 10)"
   ]
  },
  {
   "cell_type": "code",
   "execution_count": null,
   "metadata": {
    "collapsed": true
   },
   "outputs": [],
   "source": []
  }
 ],
 "metadata": {
  "kernelspec": {
   "display_name": "Python 3",
   "language": "python",
   "name": "python3"
  },
  "language_info": {
   "codemirror_mode": {
    "name": "ipython",
    "version": 3
   },
   "file_extension": ".py",
   "mimetype": "text/x-python",
   "name": "python",
   "nbconvert_exporter": "python",
   "pygments_lexer": "ipython3",
   "version": "3.6.7"
  }
 },
 "nbformat": 4,
 "nbformat_minor": 2
}
